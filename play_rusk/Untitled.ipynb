{
 "cells": [
  {
   "cell_type": "code",
   "execution_count": 2,
   "id": "136d3afa",
   "metadata": {},
   "outputs": [],
   "source": [
    ":dep polars = { version = \"0.23.2\", features = [\"lazy\", \"csv-file\", \"strings\", \"temporal\", \"dtype-duration\", \"dtype-categorical\", \"concat_str\", \"list\", \"list_eval\", \"rank\", \"lazy_regex\"]}\n",
    ":dep color-eyre = {version = \"0.6.2\"}\n",
    ":dep rand = {version = \"0.8.5\"}\n",
    ":dep reqwest = { version = \"0.11.11\", features = [\"blocking\"]}\n",
    "\n",
    "use color_eyre::{Result};\n",
    "use polars::prelude::*;"
   ]
  },
  {
   "cell_type": "code",
   "execution_count": 5,
   "id": "ec42d665",
   "metadata": {},
   "outputs": [
    {
     "data": {
      "text/plain": [
       "shape: (5, 5)\n",
       "┌─────┬────────┬─────┬────────┬──────────┐\n",
       "│ A   ┆ fruits ┆ B   ┆ cars   ┆ optional │\n",
       "│ --- ┆ ---    ┆ --- ┆ ---    ┆ ---      │\n",
       "│ i32 ┆ str    ┆ i32 ┆ str    ┆ i32      │\n",
       "╞═════╪════════╪═════╪════════╪══════════╡\n",
       "│ 1   ┆ banana ┆ 5   ┆ beetle ┆ 28       │\n",
       "├╌╌╌╌╌┼╌╌╌╌╌╌╌╌┼╌╌╌╌╌┼╌╌╌╌╌╌╌╌┼╌╌╌╌╌╌╌╌╌╌┤\n",
       "│ 2   ┆ banana ┆ 4   ┆ audi   ┆ 300      │\n",
       "├╌╌╌╌╌┼╌╌╌╌╌╌╌╌┼╌╌╌╌╌┼╌╌╌╌╌╌╌╌┼╌╌╌╌╌╌╌╌╌╌┤\n",
       "│ 3   ┆ apple  ┆ 3   ┆ beetle ┆ null     │\n",
       "├╌╌╌╌╌┼╌╌╌╌╌╌╌╌┼╌╌╌╌╌┼╌╌╌╌╌╌╌╌┼╌╌╌╌╌╌╌╌╌╌┤\n",
       "│ 4   ┆ apple  ┆ 2   ┆ beetle ┆ 2        │\n",
       "├╌╌╌╌╌┼╌╌╌╌╌╌╌╌┼╌╌╌╌╌┼╌╌╌╌╌╌╌╌┼╌╌╌╌╌╌╌╌╌╌┤\n",
       "│ 5   ┆ banana ┆ 1   ┆ beetle ┆ -30      │\n",
       "└─────┴────────┴─────┴────────┴──────────┘"
      ]
     },
     "execution_count": 5,
     "metadata": {},
     "output_type": "execute_result"
    }
   ],
   "source": [
    "let df = df! [\n",
    "    \"A\"        => [1, 2, 3, 4, 5],\n",
    "    \"fruits\"   => [\"banana\", \"banana\", \"apple\", \"apple\", \"banana\"],\n",
    "    \"B\"        => [5, 4, 3, 2, 1],\n",
    "    \"cars\"     => [\"beetle\", \"audi\", \"beetle\", \"beetle\", \"beetle\"],\n",
    "    \"optional\" => [Some(28), Some(300), None, Some(2), Some(-30)],\n",
    "]?;\n",
    "df"
   ]
  }
 ],
 "metadata": {
  "kernelspec": {
   "display_name": "Rust",
   "language": "rust",
   "name": "rust"
  },
  "language_info": {
   "codemirror_mode": "rust",
   "file_extension": ".rs",
   "mimetype": "text/rust",
   "name": "Rust",
   "pygment_lexer": "rust",
   "version": ""
  }
 },
 "nbformat": 4,
 "nbformat_minor": 5
}
